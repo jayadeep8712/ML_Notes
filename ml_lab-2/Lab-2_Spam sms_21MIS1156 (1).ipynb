{
 "cells": [
  {
   "cell_type": "markdown",
   "id": "5bd2cff8",
   "metadata": {},
   "source": [
    "## 1. Data Preprocessing"
   ]
  },
  {
   "cell_type": "code",
   "execution_count": null,
   "id": "49f58102",
   "metadata": {},
   "outputs": [],
   "source": [
    "# importing libraries\n",
    "\n",
    "import numpy as num   # working with arrays.\n",
    "import matplotlib.pyplot as mpt  \n",
    "import seaborn as sns\n",
    "\n",
    "import pandas as pd  # used for clean, analyse and manipulate data\n",
    "\n",
    "# Load the dataset\n",
    "df = pd.read_csv('email_data.csv')\n",
    "\n",
    "# Display the first few rows of the dataset\n",
    "print(df.head())"
   ]
  },
  {
   "cell_type": "code",
   "execution_count": 18,
   "id": "0549d653",
   "metadata": {},
   "outputs": [
    {
     "name": "stdout",
     "output_type": "stream",
     "text": [
      "[[48.  5.  4.  0.]\n",
      " [38.  2.  4.  1.]\n",
      " [24.  3.  2.  0.]\n",
      " [17.  3.  3.  0.]\n",
      " [30.  2.  1.  0.]\n",
      " [48.  9.  2.  0.]\n",
      " [28.  2.  4.  1.]\n",
      " [32.  2.  0.  1.]\n",
      " [20.  3.  4.  0.]\n",
      " [20.  6.  3.  0.]\n",
      " [33.  3.  4.  1.]\n",
      " [45.  8.  0.  0.]\n",
      " [49.  0.  3.  1.]\n",
      " [33.  7.  4.  0.]\n",
      " [12.  6.  3.  0.]\n",
      " [31.  1.  1.  1.]\n",
      " [11.  7.  1.  0.]\n",
      " [33.  0.  4.  1.]\n",
      " [39.  8.  3.  0.]\n",
      " [47.  8.  0.  0.]\n",
      " [11.  1.  4.  0.]\n",
      " [30.  6.  1.  1.]\n",
      " [42.  9.  1.  0.]\n",
      " [21.  2.  4.  0.]\n",
      " [31.  6.  3.  0.]\n",
      " [34.  9.  1.  0.]\n",
      " [36.  8.  3.  1.]\n",
      " [37.  3.  1.  1.]\n",
      " [25.  0.  1.  0.]\n",
      " [24.  1.  2.  1.]\n",
      " [12.  0.  1.  0.]\n",
      " [46.  4.  0.  0.]\n",
      " [16.  4.  4.  0.]\n",
      " [30.  6.  4.  1.]\n",
      " [18.  8.  3.  1.]\n",
      " [48.  8.  1.  1.]\n",
      " [27.  2.  0.  1.]\n",
      " [13.  2.  3.  1.]\n",
      " [34.  2.  2.  1.]\n",
      " [23.  3.  3.  1.]\n",
      " [18.  7.  3.  1.]\n",
      " [35.  5.  1.  1.]\n",
      " [11.  7.  2.  0.]\n",
      " [29.  0.  3.  1.]\n",
      " [37.  7.  0.  1.]\n",
      " [16.  3.  0.  1.]\n",
      " [17.  0.  4.  1.]\n",
      " [44.  7.  2.  1.]\n",
      " [23.  3.  2.  1.]\n",
      " [26.  5.  4.  1.]\n",
      " [45.  7.  3.  1.]\n",
      " [49.  3.  2.  1.]\n",
      " [13.  2.  0.  1.]\n",
      " [11.  8.  0.  1.]\n",
      " [15.  2.  1.  0.]\n",
      " [13.  8.  2.  0.]\n",
      " [38.  1.  3.  1.]\n",
      " [27.  1.  4.  1.]\n",
      " [35.  1.  4.  0.]\n",
      " [43.  5.  3.  1.]\n",
      " [19.  2.  1.  0.]\n",
      " [45.  8.  4.  0.]\n",
      " [23.  3.  2.  0.]\n",
      " [40.  0.  1.  0.]\n",
      " [24.  3.  2.  0.]\n",
      " [17.  0.  0.  1.]\n",
      " [23.  4.  1.  0.]\n",
      " [32.  3.  4.  1.]\n",
      " [49.  7.  1.  1.]\n",
      " [30.  7.  1.  0.]\n",
      " [25.  6.  1.  0.]\n",
      " [27.  2.  1.  1.]\n",
      " [33.  0.  2.  0.]\n",
      " [35.  0.  0.  0.]\n",
      " [34.  2.  3.  1.]\n",
      " [38.  5.  1.  1.]\n",
      " [24.  6.  4.  0.]\n",
      " [10.  5.  1.  1.]\n",
      " [34.  5.  4.  0.]\n",
      " [16.  5.  2.  0.]\n",
      " [18.  2.  4.  0.]\n",
      " [33.  5.  3.  1.]\n",
      " [10.  7.  0.  1.]\n",
      " [17.  1.  4.  1.]\n",
      " [33.  4.  4.  1.]\n",
      " [20.  0.  0.  1.]\n",
      " [26.  0.  3.  0.]\n",
      " [17.  4.  1.  0.]\n",
      " [44.  2.  4.  0.]\n",
      " [44.  3.  0.  0.]\n",
      " [42.  2.  2.  1.]\n",
      " [14.  0.  0.  0.]\n",
      " [48.  0.  2.  1.]\n",
      " [37.  4.  3.  0.]\n",
      " [16.  5.  1.  1.]\n",
      " [18.  2.  0.  1.]\n",
      " [17.  8.  4.  0.]\n",
      " [21.  4.  3.  0.]\n",
      " [43.  7.  0.  0.]\n",
      " [42.  0.  4.  0.]\n",
      " [32.  4.  0.  1.]\n",
      " [33.  2.  2.  0.]\n",
      " [46.  0.  0.  0.]\n",
      " [44.  3.  0.  1.]\n",
      " [49.  4.  0.  0.]\n",
      " [31.  6.  3.  0.]\n",
      " [36.  0.  0.  0.]\n",
      " [44.  2.  4.  0.]\n",
      " [10.  1.  2.  0.]\n",
      " [44.  8.  2.  1.]\n",
      " [46.  9.  0.  0.]\n",
      " [23.  5.  3.  0.]\n",
      " [12.  9.  3.  0.]\n",
      " [10.  2.  4.  0.]\n",
      " [14.  7.  0.  0.]\n",
      " [35.  7.  2.  1.]\n",
      " [23.  1.  3.  0.]\n",
      " [48.  5.  0.  1.]\n",
      " [36.  6.  3.  1.]\n",
      " [18.  1.  3.  0.]\n",
      " [24.  9.  2.  0.]\n",
      " [24.  1.  1.  0.]\n",
      " [35.  9.  4.  0.]\n",
      " [22.  0.  4.  1.]\n",
      " [41.  7.  2.  0.]\n",
      " [48.  0.  3.  0.]\n",
      " [41.  8.  0.  0.]\n",
      " [13.  5.  3.  0.]\n",
      " [39.  6.  2.  0.]\n",
      " [46.  9.  4.  0.]\n",
      " [32.  6.  3.  1.]\n",
      " [48.  9.  4.  1.]\n",
      " [24.  2.  0.  0.]\n",
      " [38.  1.  4.  0.]\n",
      " [45.  8.  4.  0.]\n",
      " [22.  7.  1.  1.]\n",
      " [41.  9.  1.  0.]\n",
      " [16.  6.  1.  1.]\n",
      " [31.  8.  4.  0.]\n",
      " [37.  3.  2.  0.]\n",
      " [11.  3.  4.  0.]\n",
      " [15.  0.  2.  0.]\n",
      " [37.  7.  2.  1.]\n",
      " [37.  2.  1.  1.]\n",
      " [29.  6.  3.  0.]\n",
      " [39.  1.  0.  0.]\n",
      " [20.  1.  1.  1.]\n",
      " [37.  6.  1.  1.]\n",
      " [34.  5.  3.  1.]\n",
      " [48.  2.  0.  1.]\n",
      " [42.  8.  4.  0.]\n",
      " [10.  9.  4.  1.]\n",
      " [36.  5.  1.  0.]\n",
      " [22.  9.  0.  1.]\n",
      " [12.  9.  1.  1.]\n",
      " [48.  5.  2.  1.]\n",
      " [15.  0.  1.  1.]\n",
      " [17.  3.  1.  1.]\n",
      " [36.  9.  4.  0.]\n",
      " [18.  5.  4.  0.]\n",
      " [46.  5.  4.  1.]\n",
      " [42.  4.  2.  1.]\n",
      " [33.  0.  4.  0.]\n",
      " [24.  7.  0.  1.]\n",
      " [41.  4.  3.  1.]\n",
      " [41.  4.  0.  0.]\n",
      " [33.  6.  0.  1.]\n",
      " [21.  3.  4.  1.]\n",
      " [48.  5.  3.  0.]\n",
      " [11.  3.  3.  0.]\n",
      " [12.  2.  3.  0.]\n",
      " [46.  6.  2.  1.]\n",
      " [26.  7.  4.  0.]\n",
      " [11.  3.  3.  0.]\n",
      " [11.  1.  2.  0.]\n",
      " [37.  9.  1.  0.]\n",
      " [32.  2.  1.  0.]\n",
      " [46.  0.  2.  0.]\n",
      " [41.  7.  2.  1.]\n",
      " [42.  2.  4.  1.]\n",
      " [10.  9.  4.  0.]\n",
      " [28.  6.  1.  0.]\n",
      " [11.  9.  3.  0.]\n",
      " [35.  4.  1.  1.]\n",
      " [41.  9.  3.  1.]\n",
      " [15.  4.  3.  1.]\n",
      " [41.  6.  4.  1.]\n",
      " [13.  8.  0.  1.]\n",
      " [20.  4.  0.  1.]\n",
      " [26.  0.  2.  1.]\n",
      " [47.  9.  4.  1.]\n",
      " [33.  9.  3.  1.]\n",
      " [14.  0.  0.  0.]\n",
      " [43.  1.  3.  0.]\n",
      " [15.  5.  0.  0.]\n",
      " [31.  8.  0.  0.]\n",
      " [20.  7.  0.  1.]\n",
      " [25.  4.  4.  1.]\n",
      " [42.  0.  1.  0.]\n",
      " [19. nan  1. nan]\n",
      " [34.  9. nan nan]\n",
      " [18.  6.  3.  1.]]\n"
     ]
    }
   ],
   "source": [
    "# Extracting independent variable:  To extract an independent variable, we will use iloc[ ] method of Pandas library. It is used to extract the required rows and columns from the dataset.\n",
    "\n",
    "x= df.iloc[:,:-1].values  \n",
    "print(x);"
   ]
  },
  {
   "cell_type": "code",
   "execution_count": 20,
   "id": "1b8bd8a2",
   "metadata": {},
   "outputs": [
    {
     "name": "stdout",
     "output_type": "stream",
     "text": [
      "[ 0.  1.  0.  0.  0.  0.  1.  1.  0.  0.  1.  0.  1.  0.  0.  1.  0.  1.\n",
      "  0.  0.  0.  1.  0.  0.  0.  0.  1.  1.  0.  1.  0.  0.  0.  1.  1.  1.\n",
      "  1.  1.  1.  1.  1.  1.  0.  1.  1.  1.  1.  1.  1.  1.  1.  1.  1.  1.\n",
      "  0.  0.  1.  1.  0.  1.  0.  0.  0.  0.  0.  1.  0.  1.  1.  0.  0.  1.\n",
      "  0.  0.  1.  1.  0.  1.  0.  0.  0.  1.  1.  1.  1.  1.  0.  0.  0.  0.\n",
      "  1.  0.  1.  0.  1.  1.  0.  0.  0.  0.  1.  0.  0.  1.  0.  0.  0.  0.\n",
      "  0.  1.  0.  0.  0.  0.  0.  1.  0.  1.  1.  0.  0.  0.  0.  1.  0.  0.\n",
      "  0.  0.  0.  0.  1.  1.  0.  0.  0.  1.  0.  1.  0.  0.  0.  0.  1.  1.\n",
      "  0.  0.  1.  1.  1.  1.  0.  1.  0.  1.  1.  1.  1.  1.  0.  0.  1.  1.\n",
      "  0.  1.  1.  0.  1.  1.  0.  0.  0.  1.  0.  0.  0.  0.  0.  0.  1.  1.\n",
      "  0.  0.  0.  1.  1.  1.  1.  1.  1.  1.  1.  1.  0.  0.  0.  0.  1.  1.\n",
      "  0. nan nan  1.]\n"
     ]
    }
   ],
   "source": [
    "# Here we have taken all the rows with the last column only. It will give the array of dependent variables.\n",
    "\n",
    "y= df.iloc[:,3].values  \n",
    "print(y);"
   ]
  },
  {
   "cell_type": "code",
   "execution_count": 40,
   "id": "d2fa62ab",
   "metadata": {},
   "outputs": [
    {
     "name": "stdout",
     "output_type": "stream",
     "text": [
      "subject_length     0\n",
      "num_links          0\n",
      "num_attachments    0\n",
      "contains_offer     0\n",
      "is_spam            0\n",
      "dtype: int64\n",
      "     subject_length  num_links  num_attachments  contains_offer  is_spam\n",
      "0             False      False            False           False    False\n",
      "1             False      False            False           False    False\n",
      "2             False      False            False           False    False\n",
      "3             False      False            False           False    False\n",
      "4             False      False            False           False    False\n",
      "..              ...        ...              ...             ...      ...\n",
      "195           False      False            False           False    False\n",
      "196           False      False            False           False    False\n",
      "197           False      False            False           False    False\n",
      "198           False      False            False           False    False\n",
      "201           False      False            False           False    False\n",
      "\n",
      "[200 rows x 5 columns]\n"
     ]
    }
   ],
   "source": [
    "# Check for missing values\n",
    "\n",
    "print(df.isnull().sum()) # sum of missing values in the column\n",
    " \n",
    "    \n",
    "print(df.isnull())  # sum of missing values in the rows\n",
    "\n",
    "# If there are missing values, handle them. For example, if there are missing values in a column,\n",
    "# we can choose to fill them with the mean (for numeric columns) or mode (for categorical columns),\n",
    "# or we can drop rows/columns with missing values.\n",
    "\n",
    "# Filling missing values with the mean for numeric columns\n",
    "df.fillna(df.mean(), inplace=True)\n",
    "\n",
    "# Alternatively, drop rows with missing values\n",
    "#df.dropna(inplace=True)\n"
   ]
  },
  {
   "cell_type": "code",
   "execution_count": 48,
   "id": "e7213878",
   "metadata": {},
   "outputs": [
    {
     "name": "stdout",
     "output_type": "stream",
     "text": [
      "       subject_length   num_links  num_attachments  contains_offer     is_spam\n",
      "count      200.000000  200.000000       200.000000      200.000000  200.000000\n",
      "mean        29.575000    4.310000         2.105000        0.470000    0.175000\n",
      "std         12.026954    2.933758         1.464479        0.500352    0.380921\n",
      "min         10.000000    0.000000         0.000000        0.000000    0.000000\n",
      "25%         18.000000    2.000000         1.000000        0.000000    0.000000\n",
      "50%         31.000000    4.000000         2.000000        0.000000    0.000000\n",
      "75%         41.000000    7.000000         3.000000        1.000000    0.000000\n",
      "max         49.000000    9.000000         4.000000        1.000000    1.000000\n"
     ]
    },
    {
     "data": {
      "image/png": "[encoded data removed]",
      "text/plain": [
       "<Figure size 1080x576 with 4 Axes>"
      ]
     },
     "metadata": {
      "needs_background": "light"
     },
     "output_type": "display_data"
    },
    {
     "data": {
      "image/png": "[encoded data removed]",
      "text/plain": [
       "<Figure size 432x288 with 1 Axes>"
      ]
     },
     "metadata": {
      "needs_background": "light"
     },
     "output_type": "display_data"
    },
    {
     "data": {
      "image/png": "[encoded data removed]",
      "text/plain": [
       "<Figure size 432x288 with 2 Axes>"
      ]
     },
     "metadata": {
      "needs_background": "light"
     },
     "output_type": "display_data"
    }
   ],
   "source": [
    "# Display summary statistics\n",
    "print(df.describe())\n",
    "\n",
    "# Plot the distribution of each feature\n",
    "df[['subject_length', 'num_links', 'num_attachments']].hist(bins=20, figsize=(15, 8))\n",
    "plt.show()\n",
    "\n",
    "# Plot the distribution of the target variable\n",
    "sns.countplot(x='is_spam', data=df)\n",
    "plt.show()\n",
    "\n",
    "# Check the correlation matrix\n",
    "correlation_matrix = df.corr()\n",
    "sns.heatmap(correlation_matrix, annot=True, cmap='coolwarm')\n",
    "plt.show()\n"
   ]
  },
  {
   "cell_type": "code",
   "execution_count": 31,
   "id": "d44e59f9",
   "metadata": {
    "scrolled": true
   },
   "outputs": [
    {
     "name": "stdout",
     "output_type": "stream",
     "text": [
      "   subject_length  num_links  num_attachments  contains_offer\n",
      "0        1.542518   0.227497         1.305618       -0.946393\n",
      "1        0.706712  -0.796241         1.305618        1.067210\n",
      "2       -0.463418  -0.454995        -0.068357       -0.946393\n",
      "3       -1.048482  -0.454995         0.618630       -0.946393\n",
      "4        0.038066  -0.796241        -0.755344       -0.946393\n"
     ]
    }
   ],
   "source": [
    "from sklearn.preprocessing import StandardScaler\n",
    "\n",
    "# Separate features and target variable\n",
    "X = df[['subject_length', 'num_links', 'num_attachments', 'contains_offer']]\n",
    "y = df['is_spam']\n",
    "\n",
    "# Standardize the features\n",
    "scaler = StandardScaler()\n",
    "X_scaled = scaler.fit_transform(X)\n",
    "\n",
    "# Convert the standardized features back to a DataFrame\n",
    "X_scaled_df = pd.DataFrame(X_scaled, columns=X.columns)\n",
    "\n",
    "# Display the first few rows of the standardized features\n",
    "print(X_scaled_df.head())\n"
   ]
  },
  {
   "cell_type": "markdown",
   "id": "a4af3ef6",
   "metadata": {},
   "source": [
    "## 2. Concept Learning"
   ]
  },
  {
   "cell_type": "code",
   "execution_count": 49,
   "id": "72565212",
   "metadata": {},
   "outputs": [
    {
     "name": "stdout",
     "output_type": "stream",
     "text": [
      "Most Specific Hypothesis: [nan nan nan nan]\n"
     ]
    }
   ],
   "source": [
    "#Find's Algorithm\n",
    "\n",
    "import numpy as np\n",
    "import pandas as pd\n",
    "\n",
    "def find_s_algorithm(df):\n",
    "    # Separate features and target variable\n",
    "    X = df[['subject_length', 'num_links', 'num_attachments', 'contains_offer']].values\n",
    "    y = df['is_spam'].values\n",
    "    \n",
    "    # Get indices of positive examples\n",
    "    positive_indices = np.where(y == 1)[0]\n",
    "    \n",
    "    # Check if there are any positive examples\n",
    "    if len(positive_indices) == 0:\n",
    "        raise ValueError(\"No positive examples found in the dataset.\")\n",
    "    \n",
    "    # Initialize the hypothesis to the most specific hypothesis based on the first positive example\n",
    "    hypothesis = X[positive_indices[0]].copy()\n",
    "    \n",
    "    # Update the hypothesis for each positive example\n",
    "    for index in positive_indices:\n",
    "        example = X[index]\n",
    "        for i in range(len(hypothesis)):\n",
    "            if hypothesis[i] != example[i]:\n",
    "                hypothesis[i] = None  # Generalize feature if it does not match\n",
    "    \n",
    "    return hypothesis\n",
    "\n",
    "# Load the dataset (assuming it's already preprocessed)\n",
    "df = pd.read_csv('email_data.csv')\n",
    "\n",
    "# Apply the Find-S algorithm\n",
    "most_specific_hypothesis = find_s_algorithm(df)\n",
    "print(\"Most Specific Hypothesis:\", most_specific_hypothesis)\n"
   ]
  },
  {
   "cell_type": "markdown",
   "id": "b7cff9b4",
   "metadata": {},
   "source": [
    "# 3. Model Training and Evaluation"
   ]
  },
  {
   "cell_type": "code",
   "execution_count": 53,
   "id": "d41735dc",
   "metadata": {},
   "outputs": [
    {
     "name": "stdout",
     "output_type": "stream",
     "text": [
      "Length of y_test: 41\n",
      "Length of y_pred: 4\n",
      "y_test sample: 95     0\n",
      "15     0\n",
      "30     0\n",
      "159    0\n",
      "186    1\n",
      "Name: is_spam, dtype: int64\n",
      "y_pred sample: [0 0 0 0]\n"
     ]
    }
   ],
   "source": [
    "# Check lengths and a few examples for debugging\n",
    "print(f\"Length of y_test: {len(y_test)}\")\n",
    "print(f\"Length of y_pred: {len(y_pred)}\")\n",
    "\n",
    "print(\"y_test sample:\", y_test.head())\n",
    "print(\"y_pred sample:\", y_pred[:10])\n",
    "\n",
    "# Ensuring hypothesis is correct or not\n",
    "def apply_hypothesis(hypothesis, X):\n",
    "    y_pred = []\n",
    "    for example in X.values:  # Ensure we're iterating over a numpy array\n",
    "        match = True\n",
    "        for i in range(len(hypothesis)):\n",
    "            if hypothesis[i] is not None and hypothesis[i] != example[i]:\n",
    "                match = False\n",
    "                break\n",
    "        y_pred.append(1 if match else 0)\n",
    "    return np.array(y_pred)\n",
    "\n",
    "\n",
    "\n",
    "\n"
   ]
  },
  {
   "cell_type": "code",
   "execution_count": 58,
   "id": "d5e67297",
   "metadata": {},
   "outputs": [
    {
     "name": "stdout",
     "output_type": "stream",
     "text": [
      "Unique values in y_pred: [0]\n",
      "Number of positive predictions: 0\n",
      "Accuracy: 0.80\n",
      "Precision: 0.00\n",
      "Recall: 0.00\n",
      "F1 Score: 0.00\n"
     ]
    }
   ],
   "source": [
    "import pandas as pd\n",
    "import numpy as np\n",
    "from sklearn.model_selection import train_test_split\n",
    "from sklearn.metrics import accuracy_score, precision_score, recall_score, f1_score\n",
    "\n",
    "def find_s_algorithm(df):\n",
    "    X = df[['subject_length', 'num_links', 'num_attachments', 'contains_offer']].values\n",
    "    y = df['is_spam'].values\n",
    "    \n",
    "    positive_indices = np.where(y == 1)[0]\n",
    "    \n",
    "    if len(positive_indices) == 0:\n",
    "        raise ValueError(\"No positive examples found in the dataset.\")\n",
    "    \n",
    "    hypothesis = X[positive_indices[0]].copy()\n",
    "    \n",
    "    for index in positive_indices:\n",
    "        example = X[index]\n",
    "        for i in range(len(hypothesis)):\n",
    "            if hypothesis[i] != example[i]:\n",
    "                hypothesis[i] = None  # Generalize feature if it does not match\n",
    "    \n",
    "    return hypothesis\n",
    "\n",
    "def apply_hypothesis(hypothesis, X):\n",
    "    y_pred = []\n",
    "    for example in X:\n",
    "        match = True\n",
    "        for i in range(len(hypothesis)):\n",
    "            if hypothesis[i] is not None and hypothesis[i] != example[i]:\n",
    "                match = False\n",
    "                break\n",
    "        y_pred.append(1 if match else 0)\n",
    "    return np.array(y_pred)\n",
    "\n",
    "# Load the dataset\n",
    "df = pd.read_csv('email_data.csv')\n",
    "\n",
    "# Split the dataset into training and testing sets\n",
    "X = df[['subject_length', 'num_links', 'num_attachments', 'contains_offer']]\n",
    "y = df['is_spam']\n",
    "X_train, X_test, y_train, y_test = train_test_split(X, y, test_size=0.2, random_state=42)\n",
    "\n",
    "# Apply the Find-S algorithm on the training set\n",
    "df_train = pd.concat([X_train, y_train], axis=1)\n",
    "hypothesis = find_s_algorithm(df_train)\n",
    "\n",
    "# Convert X_test to numpy array\n",
    "X_test_array = X_test.to_numpy()\n",
    "y_pred = apply_hypothesis(hypothesis, X_test_array)\n",
    "\n",
    "# Debug predictions\n",
    "print(\"Unique values in y_pred:\", np.unique(y_pred))\n",
    "print(\"Number of positive predictions:\", np.sum(y_pred == 1))\n",
    "\n",
    "# Evaluate the model\n",
    "accuracy = accuracy_score(y_test, y_pred)\n",
    "precision = precision_score(y_test, y_pred, zero_division=0)\n",
    "recall = recall_score(y_test, y_pred, zero_division=0)\n",
    "f1 = f1_score(y_test, y_pred, zero_division=0)\n",
    "\n",
    "print(f\"Accuracy: {accuracy:.2f}\")\n",
    "print(f\"Precision: {precision:.2f}\")\n",
    "print(f\"Recall: {recall:.2f}\")\n",
    "print(f\"F1 Score: {f1:.2f}\")\n",
    "\n"
   ]
  },
  {
   "cell_type": "markdown",
   "id": "fdb621b4",
   "metadata": {},
   "source": [
    "## 4. Interpretation and Discussion "
   ]
  },
  {
   "cell_type": "markdown",
   "id": "55f412de",
   "metadata": {},
   "source": [
    "**Interpretation and Discussion of the Find-S Algorithm**\n",
    "**Concept Learned:**\n",
    "        \n",
    "The Find-S algorithm generates the most specific hypothesis that classifies all positive (spam) examples in the training data. For instance, it might produce a hypothesis like `[10, 5, 2, 1]`, meaning spam emails have a subject length of exactly 10, 5 links, 2 attachments, and contain an offer.\n",
    "\n",
    "**Effectiveness:**\n",
    "- **Strengths**: Accurately identifies spam in training data if the training examples are representative.\n",
    "- **Limitations**: Overfits to training data, struggles with noisy data, and may miss feature interactions.\n",
    "\n",
    "**Limitations:**\n",
    "1. **Overfitting**: Hypothesis may be too specific, performing poorly on new data.\n",
    "2. **Noisy Data**: May incorporate errors from noisy or mislabeled examples.\n",
    "3. **Feature Interaction**: Doesn’t capture complex interactions between features.\n",
    "\n",
    "**Improvements:**\n",
    "1. **Advanced Algorithms**: Use models like decision trees or random forests for better generalization.\n",
    "2. **Feature Engineering**: Combine or create new features to capture more complex patterns.\n",
    "3. **Regularization**: Apply techniques to reduce overfitting.\n",
    "4. **Data Cleaning**: Address noise and ensure data quality.\n",
    "\n",
    "In summary, while Find-S provides a specific hypothesis for spam detection, it has limitations in terms of overfitting and handling noisy data. Using more advanced techniques and improving data quality can enhance performance. "
   ]
  },
  {
   "cell_type": "code",
   "execution_count": null,
   "id": "eeb5118e",
   "metadata": {},
   "outputs": [],
   "source": []
  }
 ],
 "metadata": {
  "kernelspec": {
   "display_name": "Python 3 (ipykernel)",
   "language": "python",
   "name": "python3"
  },
  "language_info": {
   "codemirror_mode": {
    "name": "ipython",
    "version": 3
   },
   "file_extension": ".py",
   "mimetype": "text/x-python",
   "name": "python",
   "nbconvert_exporter": "python",
   "pygments_lexer": "ipython3",
   "version": "3.10.12"
  }
 },
 "nbformat": 4,
 "nbformat_minor": 5
}
